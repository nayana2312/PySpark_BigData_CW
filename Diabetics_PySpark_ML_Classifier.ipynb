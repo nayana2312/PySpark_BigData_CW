{
 "cells": [
  {
   "cell_type": "code",
   "execution_count": 1,
   "id": "29f6bf76",
   "metadata": {},
   "outputs": [],
   "source": [
    "import pyspark\n",
    "from pyspark import SparkContext\n",
    "from pyspark.sql import SparkSession\n",
    "from pyspark import SparkConf\n",
    "sc = SparkContext.getOrCreate()\n",
    "spark = SparkSession(sc)"
   ]
  },
  {
   "cell_type": "markdown",
   "id": "c56f32bb",
   "metadata": {},
   "source": [
    "### Dataset description"
   ]
  },
  {
   "cell_type": "code",
   "execution_count": 2,
   "id": "c363af33",
   "metadata": {},
   "outputs": [],
   "source": [
    "#loading the dataset\n",
    "df = spark.read.csv('/home/nayana/Desktop/diabetic_data.csv', inferSchema='true', header='true')"
   ]
  },
  {
   "cell_type": "code",
   "execution_count": 3,
   "id": "2ae2b715",
   "metadata": {},
   "outputs": [
    {
     "data": {
      "text/plain": [
       "Row(encounter_id=2278392, patient_nbr=8222157, race='Caucasian', gender='Female', age='[0-10)', weight='?', admission_type_id=6, discharge_disposition_id=25, admission_source_id=1, time_in_hospital=1, payer_code='?', medical_specialty='Pediatrics-Endocrinology', num_lab_procedures=41, num_procedures=0, num_medications=1, number_outpatient=0, number_emergency=0, number_inpatient=0, diag_1='250.83', diag_2='?', diag_3='?', number_diagnoses=1, max_glu_serum='None', A1Cresult='None', metformin='No', repaglinide='No', nateglinide='No', chlorpropamide='No', glimepiride='No', acetohexamide='No', glipizide='No', glyburide='No', tolbutamide='No', pioglitazone='No', rosiglitazone='No', acarbose='No', miglitol='No', troglitazone='No', tolazamide='No', examide='No', citoglipton='No', insulin='No', glyburide-metformin='No', glipizide-metformin='No', glimepiride-pioglitazone='No', metformin-rosiglitazone='No', metformin-pioglitazone='No', change='No', diabetesMed='No', readmitted='NO')"
      ]
     },
     "execution_count": 3,
     "metadata": {},
     "output_type": "execute_result"
    }
   ],
   "source": [
    "df.head()"
   ]
  },
  {
   "cell_type": "code",
   "execution_count": 4,
   "id": "4f71ab39",
   "metadata": {},
   "outputs": [
    {
     "data": {
      "text/plain": [
       "101766"
      ]
     },
     "execution_count": 4,
     "metadata": {},
     "output_type": "execute_result"
    }
   ],
   "source": [
    "df.count()"
   ]
  },
  {
   "cell_type": "code",
   "execution_count": 5,
   "id": "af86b3c7",
   "metadata": {},
   "outputs": [
    {
     "data": {
      "text/plain": [
       "['encounter_id',\n",
       " 'patient_nbr',\n",
       " 'race',\n",
       " 'gender',\n",
       " 'age',\n",
       " 'weight',\n",
       " 'admission_type_id',\n",
       " 'discharge_disposition_id',\n",
       " 'admission_source_id',\n",
       " 'time_in_hospital',\n",
       " 'payer_code',\n",
       " 'medical_specialty',\n",
       " 'num_lab_procedures',\n",
       " 'num_procedures',\n",
       " 'num_medications',\n",
       " 'number_outpatient',\n",
       " 'number_emergency',\n",
       " 'number_inpatient',\n",
       " 'diag_1',\n",
       " 'diag_2',\n",
       " 'diag_3',\n",
       " 'number_diagnoses',\n",
       " 'max_glu_serum',\n",
       " 'A1Cresult',\n",
       " 'metformin',\n",
       " 'repaglinide',\n",
       " 'nateglinide',\n",
       " 'chlorpropamide',\n",
       " 'glimepiride',\n",
       " 'acetohexamide',\n",
       " 'glipizide',\n",
       " 'glyburide',\n",
       " 'tolbutamide',\n",
       " 'pioglitazone',\n",
       " 'rosiglitazone',\n",
       " 'acarbose',\n",
       " 'miglitol',\n",
       " 'troglitazone',\n",
       " 'tolazamide',\n",
       " 'examide',\n",
       " 'citoglipton',\n",
       " 'insulin',\n",
       " 'glyburide-metformin',\n",
       " 'glipizide-metformin',\n",
       " 'glimepiride-pioglitazone',\n",
       " 'metformin-rosiglitazone',\n",
       " 'metformin-pioglitazone',\n",
       " 'change',\n",
       " 'diabetesMed',\n",
       " 'readmitted']"
      ]
     },
     "execution_count": 5,
     "metadata": {},
     "output_type": "execute_result"
    }
   ],
   "source": [
    "df.columns"
   ]
  },
  {
   "cell_type": "markdown",
   "id": "c762547e",
   "metadata": {},
   "source": [
    "### Dataset pre-processing\n",
    "#### 1. Age Feature :  \n",
    "The values of age are in the form of [0–10),[10–20),[20–30) and are ordinal.  The age feature is must be converted to categorical by converting it into numerical values."
   ]
  },
  {
   "cell_type": "code",
   "execution_count": 6,
   "id": "e2c586f5",
   "metadata": {},
   "outputs": [
    {
     "name": "stdout",
     "output_type": "stream",
     "text": [
      "+--------+-----+\n",
      "|     age|count|\n",
      "+--------+-----+\n",
      "| [70-80)|26068|\n",
      "|[90-100)| 2793|\n",
      "| [40-50)| 9685|\n",
      "| [10-20)|  691|\n",
      "| [20-30)| 1657|\n",
      "| [30-40)| 3775|\n",
      "|  [0-10)|  161|\n",
      "| [80-90)|17197|\n",
      "| [50-60)|17256|\n",
      "| [60-70)|22483|\n",
      "+--------+-----+\n",
      "\n"
     ]
    }
   ],
   "source": [
    "df.groupBy('age').count().show()"
   ]
  },
  {
   "cell_type": "code",
   "execution_count": 7,
   "id": "d568bb13",
   "metadata": {},
   "outputs": [],
   "source": [
    "df = df.replace(['[0-10)','[10-20)','[20-30)','[30-40)','[40-50)','[50-60)','[60-70)','[70-80)','[80-90)','[90-100)'],\n",
    "               ['5','15','25','35','45','55','65','75','85','95'], 'age')"
   ]
  },
  {
   "cell_type": "code",
   "execution_count": 8,
   "id": "9d8f7cdf",
   "metadata": {},
   "outputs": [
    {
     "name": "stdout",
     "output_type": "stream",
     "text": [
      "+---+-----+\n",
      "|age|count|\n",
      "+---+-----+\n",
      "| 15|  691|\n",
      "| 85|17197|\n",
      "| 35| 3775|\n",
      "|  5|  161|\n",
      "| 75|26068|\n",
      "| 55|17256|\n",
      "| 95| 2793|\n",
      "| 25| 1657|\n",
      "| 65|22483|\n",
      "| 45| 9685|\n",
      "+---+-----+\n",
      "\n"
     ]
    }
   ],
   "source": [
    "df.groupBy('age').count().show()"
   ]
  },
  {
   "cell_type": "markdown",
   "id": "199fefeb",
   "metadata": {},
   "source": [
    "#### 2. Dealing with Duplicate Records :  \n",
    "We found out that, for some patient there are number of entries in the dataset these duplicate entries are not helpful in solving the task hence we removed these entries."
   ]
  },
  {
   "cell_type": "code",
   "execution_count": 9,
   "id": "73c01b8d",
   "metadata": {},
   "outputs": [
    {
     "data": {
      "text/plain": [
       "101766"
      ]
     },
     "execution_count": 9,
     "metadata": {},
     "output_type": "execute_result"
    }
   ],
   "source": [
    "df.select('patient_nbr').count()"
   ]
  },
  {
   "cell_type": "code",
   "execution_count": 10,
   "id": "0b5decfc",
   "metadata": {},
   "outputs": [
    {
     "data": {
      "text/plain": [
       "71518"
      ]
     },
     "execution_count": 10,
     "metadata": {},
     "output_type": "execute_result"
    }
   ],
   "source": [
    "df = df.dropDuplicates(['patient_nbr'])\n",
    "df = df.na.drop()\n",
    "df.select('patient_nbr').count()"
   ]
  },
  {
   "cell_type": "markdown",
   "id": "cbfead6a",
   "metadata": {},
   "source": [
    "#### 3. Transformation,mapping and Merging into fewer categories :\n",
    "Some of the transformation like UP to 10, Down to -10, similarly some of the similar values are merged into single value like in admission source id [2, 3] to 1, [5, 6, 10, 22, 25] to 4. We also map the values in the redmitted to 1 and 0 for binary classification. The values >30 as well as <30 will be mapped to 1 (meaning readmitted) and 0 means not readmitted "
   ]
  },
  {
   "cell_type": "code",
   "execution_count": 11,
   "id": "5723cfdb",
   "metadata": {},
   "outputs": [
    {
     "name": "stdout",
     "output_type": "stream",
     "text": [
      "+------------------------+\n",
      "|discharge_disposition_id|\n",
      "+------------------------+\n",
      "|                      18|\n",
      "|                       1|\n",
      "|                       3|\n",
      "|                      25|\n",
      "|                       1|\n",
      "|                       1|\n",
      "|                      23|\n",
      "|                       1|\n",
      "|                       1|\n",
      "|                       1|\n",
      "|                       1|\n",
      "|                       6|\n",
      "|                       1|\n",
      "|                       1|\n",
      "|                       1|\n",
      "|                       1|\n",
      "|                       1|\n",
      "|                       1|\n",
      "|                      18|\n",
      "|                       6|\n",
      "+------------------------+\n",
      "only showing top 20 rows\n",
      "\n"
     ]
    }
   ],
   "source": [
    "df.select('discharge_disposition_id').show()"
   ]
  },
  {
   "cell_type": "code",
   "execution_count": 12,
   "id": "27a3e1dc",
   "metadata": {},
   "outputs": [
    {
     "name": "stdout",
     "output_type": "stream",
     "text": [
      "<class 'pyspark.sql.dataframe.DataFrame'>\n",
      "<class 'pandas.core.frame.DataFrame'>\n"
     ]
    },
    {
     "data": {
      "text/html": [
       "<div>\n",
       "<style scoped>\n",
       "    .dataframe tbody tr th:only-of-type {\n",
       "        vertical-align: middle;\n",
       "    }\n",
       "\n",
       "    .dataframe tbody tr th {\n",
       "        vertical-align: top;\n",
       "    }\n",
       "\n",
       "    .dataframe thead th {\n",
       "        text-align: right;\n",
       "    }\n",
       "</style>\n",
       "<table border=\"1\" class=\"dataframe\">\n",
       "  <thead>\n",
       "    <tr style=\"text-align: right;\">\n",
       "      <th></th>\n",
       "      <th>encounter_id</th>\n",
       "      <th>patient_nbr</th>\n",
       "      <th>race</th>\n",
       "      <th>gender</th>\n",
       "      <th>age</th>\n",
       "      <th>weight</th>\n",
       "      <th>admission_type_id</th>\n",
       "      <th>discharge_disposition_id</th>\n",
       "      <th>admission_source_id</th>\n",
       "      <th>time_in_hospital</th>\n",
       "      <th>...</th>\n",
       "      <th>citoglipton</th>\n",
       "      <th>insulin</th>\n",
       "      <th>glyburide-metformin</th>\n",
       "      <th>glipizide-metformin</th>\n",
       "      <th>glimepiride-pioglitazone</th>\n",
       "      <th>metformin-rosiglitazone</th>\n",
       "      <th>metformin-pioglitazone</th>\n",
       "      <th>change</th>\n",
       "      <th>diabetesMed</th>\n",
       "      <th>readmitted</th>\n",
       "    </tr>\n",
       "  </thead>\n",
       "  <tbody>\n",
       "    <tr>\n",
       "      <th>0</th>\n",
       "      <td>42462216</td>\n",
       "      <td>113652</td>\n",
       "      <td>Caucasian</td>\n",
       "      <td>Female</td>\n",
       "      <td>55</td>\n",
       "      <td>?</td>\n",
       "      <td>2</td>\n",
       "      <td>18</td>\n",
       "      <td>4</td>\n",
       "      <td>5</td>\n",
       "      <td>...</td>\n",
       "      <td>No</td>\n",
       "      <td>No</td>\n",
       "      <td>No</td>\n",
       "      <td>No</td>\n",
       "      <td>No</td>\n",
       "      <td>No</td>\n",
       "      <td>No</td>\n",
       "      <td>No</td>\n",
       "      <td>Yes</td>\n",
       "      <td>NO</td>\n",
       "    </tr>\n",
       "    <tr>\n",
       "      <th>1</th>\n",
       "      <td>100131384</td>\n",
       "      <td>132318</td>\n",
       "      <td>AfricanAmerican</td>\n",
       "      <td>Male</td>\n",
       "      <td>35</td>\n",
       "      <td>?</td>\n",
       "      <td>1</td>\n",
       "      <td>1</td>\n",
       "      <td>6</td>\n",
       "      <td>4</td>\n",
       "      <td>...</td>\n",
       "      <td>No</td>\n",
       "      <td>Steady</td>\n",
       "      <td>No</td>\n",
       "      <td>No</td>\n",
       "      <td>No</td>\n",
       "      <td>No</td>\n",
       "      <td>No</td>\n",
       "      <td>Ch</td>\n",
       "      <td>Yes</td>\n",
       "      <td>NO</td>\n",
       "    </tr>\n",
       "    <tr>\n",
       "      <th>2</th>\n",
       "      <td>69445656</td>\n",
       "      <td>244629</td>\n",
       "      <td>Caucasian</td>\n",
       "      <td>Female</td>\n",
       "      <td>75</td>\n",
       "      <td>?</td>\n",
       "      <td>1</td>\n",
       "      <td>3</td>\n",
       "      <td>7</td>\n",
       "      <td>4</td>\n",
       "      <td>...</td>\n",
       "      <td>No</td>\n",
       "      <td>No</td>\n",
       "      <td>No</td>\n",
       "      <td>No</td>\n",
       "      <td>No</td>\n",
       "      <td>No</td>\n",
       "      <td>No</td>\n",
       "      <td>Ch</td>\n",
       "      <td>Yes</td>\n",
       "      <td>NO</td>\n",
       "    </tr>\n",
       "    <tr>\n",
       "      <th>3</th>\n",
       "      <td>4476318</td>\n",
       "      <td>300825</td>\n",
       "      <td>Caucasian</td>\n",
       "      <td>Male</td>\n",
       "      <td>75</td>\n",
       "      <td>?</td>\n",
       "      <td>6</td>\n",
       "      <td>25</td>\n",
       "      <td>7</td>\n",
       "      <td>5</td>\n",
       "      <td>...</td>\n",
       "      <td>No</td>\n",
       "      <td>No</td>\n",
       "      <td>No</td>\n",
       "      <td>No</td>\n",
       "      <td>No</td>\n",
       "      <td>No</td>\n",
       "      <td>No</td>\n",
       "      <td>No</td>\n",
       "      <td>Yes</td>\n",
       "      <td>&gt;30</td>\n",
       "    </tr>\n",
       "    <tr>\n",
       "      <th>4</th>\n",
       "      <td>36236244</td>\n",
       "      <td>308619</td>\n",
       "      <td>Caucasian</td>\n",
       "      <td>Female</td>\n",
       "      <td>75</td>\n",
       "      <td>?</td>\n",
       "      <td>2</td>\n",
       "      <td>1</td>\n",
       "      <td>1</td>\n",
       "      <td>2</td>\n",
       "      <td>...</td>\n",
       "      <td>No</td>\n",
       "      <td>Steady</td>\n",
       "      <td>No</td>\n",
       "      <td>No</td>\n",
       "      <td>No</td>\n",
       "      <td>No</td>\n",
       "      <td>No</td>\n",
       "      <td>No</td>\n",
       "      <td>Yes</td>\n",
       "      <td>&gt;30</td>\n",
       "    </tr>\n",
       "  </tbody>\n",
       "</table>\n",
       "<p>5 rows × 50 columns</p>\n",
       "</div>"
      ],
      "text/plain": [
       "   encounter_id  patient_nbr             race  gender age weight  \\\n",
       "0      42462216       113652        Caucasian  Female  55      ?   \n",
       "1     100131384       132318  AfricanAmerican    Male  35      ?   \n",
       "2      69445656       244629        Caucasian  Female  75      ?   \n",
       "3       4476318       300825        Caucasian    Male  75      ?   \n",
       "4      36236244       308619        Caucasian  Female  75      ?   \n",
       "\n",
       "   admission_type_id  discharge_disposition_id  admission_source_id  \\\n",
       "0                  2                        18                    4   \n",
       "1                  1                         1                    6   \n",
       "2                  1                         3                    7   \n",
       "3                  6                        25                    7   \n",
       "4                  2                         1                    1   \n",
       "\n",
       "   time_in_hospital  ... citoglipton insulin  glyburide-metformin  \\\n",
       "0                 5  ...          No      No                   No   \n",
       "1                 4  ...          No  Steady                   No   \n",
       "2                 4  ...          No      No                   No   \n",
       "3                 5  ...          No      No                   No   \n",
       "4                 2  ...          No  Steady                   No   \n",
       "\n",
       "   glipizide-metformin  glimepiride-pioglitazone  metformin-rosiglitazone  \\\n",
       "0                   No                        No                       No   \n",
       "1                   No                        No                       No   \n",
       "2                   No                        No                       No   \n",
       "3                   No                        No                       No   \n",
       "4                   No                        No                       No   \n",
       "\n",
       "   metformin-pioglitazone  change diabetesMed readmitted  \n",
       "0                      No      No         Yes         NO  \n",
       "1                      No      Ch         Yes         NO  \n",
       "2                      No      Ch         Yes         NO  \n",
       "3                      No      No         Yes        >30  \n",
       "4                      No      No         Yes        >30  \n",
       "\n",
       "[5 rows x 50 columns]"
      ]
     },
     "execution_count": 12,
     "metadata": {},
     "output_type": "execute_result"
    }
   ],
   "source": [
    "print(type(df))\n",
    "df=df.toPandas()\n",
    "print(type(df))\n",
    "df.head()"
   ]
  },
  {
   "cell_type": "code",
   "execution_count": 13,
   "id": "6f0a11ef",
   "metadata": {},
   "outputs": [],
   "source": [
    "df['discharge_disposition_id'] = df['discharge_disposition_id'].apply(lambda x : 1 if int(x) in [6, 8, 9, 13] \n",
    "                                                                           else ( 2 if int(x) in [3, 4, 5, 14, 22, 23, 24]\n",
    "                                                                           else ( 10 if int(x) in [12, 15, 16, 17]\n",
    "                                                                           else ( 11 if int(x) in [19, 20, 21]\n",
    "                                                                           else ( 18 if int(x) in [25, 26] \n",
    "                                                                           else int(x) )))))\n",
    "\n",
    "df = df[~df.discharge_disposition_id.isin([11,13,14,19,20,21])]\n",
    "\n",
    "df['admission_type_id'] = df['admission_type_id'].apply(lambda x : 1 if int(x) in [2, 7]\n",
    "                                                            else ( 5 if int(x) in [6, 8]\n",
    "                                                            else int(x) ))\n",
    "\n",
    "df['admission_source_id'] = df['admission_source_id'].apply(lambda x : 1 if int(x) in [2, 3]\n",
    "                                                            else ( 4 if int(x) in [5, 6, 10, 22, 25]\n",
    "                                                            else ( 9 if int(x) in [15, 17, 20, 21]\n",
    "                                                            else ( 11 if int(x) in [13, 14]\n",
    "                                                            else int(x) ))))\n",
    "\n",
    "for col in [\"metformin\", \"repaglinide\", \"nateglinide\", \"chlorpropamide\", \"glimepiride\", \"acetohexamide\", \"glipizide\", \"glyburide\", \"tolbutamide\", \"pioglitazone\", \"rosiglitazone\", \"acarbose\", \"miglitol\", \"troglitazone\", \"tolazamide\", \"examide\", \"citoglipton\", \"insulin\", \"glyburide-metformin\", \"glipizide-metformin\", \"glimepiride-pioglitazone\", \"metformin-rosiglitazone\", \"metformin-pioglitazone\"]:\n",
    "    df[col] = df[col].apply(lambda x : 10 if x == 'Up' \n",
    "                                              else ( -10 if x == 'Down'                                                          \n",
    "                                              else ( 0 if x == 'Steady'\n",
    "                                              else  -20)))\n",
    "\n",
    "\n",
    "df['change'] = df['change'].apply(lambda x : 1 if x == 'Ch'\n",
    "                                                 else -1)\n",
    "\n",
    "\n",
    "df['diabetesMed'] = df['diabetesMed'].apply(lambda x : -1 if x == 'No'\n",
    "                                                else 1)\n",
    "\n",
    "\n",
    "df['max_glu_serum'] = df['max_glu_serum'].apply(lambda x : 200 if x == '>200' \n",
    "                                                            else ( 300 if x == '>300'                                                          \n",
    "                                                            else ( 100 if x == 'Norm'\n",
    "                                                            else  0)))\n",
    "\n",
    "df['A1Cresult'] = df['A1Cresult'].apply(lambda x : 7 if x == '>7' \n",
    "                                                         else (8 if  x == '>8'                                                        \n",
    "                                                         else ( 5 if x == 'Norm'\n",
    "                                                         else  0)))\n",
    "\n",
    "df['readmitted'] = df['readmitted'].apply(lambda x : 1 if x == '>30'\n",
    "                                               else (1 if x == '<30'\n",
    "                                               else 0))\n",
    "\n",
    "df['race'] = df['race'].apply(lambda x : 'Unknown' if x == '?'\n",
    "                                                   else x)\n"
   ]
  },
  {
   "cell_type": "code",
   "execution_count": 14,
   "id": "71e0b135",
   "metadata": {},
   "outputs": [
    {
     "name": "stdout",
     "output_type": "stream",
     "text": [
      "<class 'pyspark.sql.dataframe.DataFrame'>\n",
      "50\n"
     ]
    }
   ],
   "source": [
    "df=spark.createDataFrame(data=df)\n",
    "print(type(df))\n",
    "print(len(df.columns))"
   ]
  },
  {
   "cell_type": "markdown",
   "id": "89feaa91",
   "metadata": {},
   "source": [
    "#### 4. Removing unwanted columns \n",
    "Removing columns dont provide any value to predicition"
   ]
  },
  {
   "cell_type": "code",
   "execution_count": 15,
   "id": "a9a2d08a",
   "metadata": {},
   "outputs": [
    {
     "name": "stdout",
     "output_type": "stream",
     "text": [
      "31\n"
     ]
    }
   ],
   "source": [
    "df = df.drop('weight')\n",
    "df = df.drop('encounter_id', 'patient_nbr', 'payer_code')\n",
    "df = df.drop('glimepiride', 'acetohexamide', 'tolbutamide')\n",
    "df = df.drop('pioglitazone', 'rosiglitazone', 'acarbose', 'miglitol')\n",
    "df = df.drop('troglitazone', 'examide', 'citoglipton')\n",
    "df = df.drop('glyburide-metformin', 'glipizide-metformin')\n",
    "df = df.drop('glimepiride-pioglitazone', 'metformin-rosiglitazone')\n",
    "df = df.drop('metformin-pioglitazone')\n",
    "print(len(df.columns))"
   ]
  },
  {
   "cell_type": "code",
   "execution_count": 16,
   "id": "f777ad3a",
   "metadata": {},
   "outputs": [
    {
     "data": {
      "text/plain": [
       "['race',\n",
       " 'gender',\n",
       " 'age',\n",
       " 'admission_type_id',\n",
       " 'discharge_disposition_id',\n",
       " 'admission_source_id',\n",
       " 'time_in_hospital',\n",
       " 'medical_specialty',\n",
       " 'num_lab_procedures',\n",
       " 'num_procedures',\n",
       " 'num_medications',\n",
       " 'number_outpatient',\n",
       " 'number_emergency',\n",
       " 'number_inpatient',\n",
       " 'diag_1',\n",
       " 'diag_2',\n",
       " 'diag_3',\n",
       " 'number_diagnoses',\n",
       " 'max_glu_serum',\n",
       " 'A1Cresult',\n",
       " 'metformin',\n",
       " 'repaglinide',\n",
       " 'nateglinide',\n",
       " 'chlorpropamide',\n",
       " 'glipizide',\n",
       " 'glyburide',\n",
       " 'tolazamide',\n",
       " 'insulin',\n",
       " 'change',\n",
       " 'diabetesMed',\n",
       " 'readmitted']"
      ]
     },
     "execution_count": 16,
     "metadata": {},
     "output_type": "execute_result"
    }
   ],
   "source": [
    "df.columns"
   ]
  },
  {
   "cell_type": "code",
   "execution_count": 17,
   "id": "6e85ae54",
   "metadata": {},
   "outputs": [
    {
     "name": "stdout",
     "output_type": "stream",
     "text": [
      "+----------+\n",
      "|readmitted|\n",
      "+----------+\n",
      "|         0|\n",
      "|         0|\n",
      "|         0|\n",
      "|         1|\n",
      "|         1|\n",
      "|         1|\n",
      "|         0|\n",
      "|         0|\n",
      "|         0|\n",
      "|         0|\n",
      "|         0|\n",
      "|         1|\n",
      "|         0|\n",
      "|         0|\n",
      "|         1|\n",
      "|         0|\n",
      "|         0|\n",
      "|         0|\n",
      "|         0|\n",
      "|         1|\n",
      "+----------+\n",
      "only showing top 20 rows\n",
      "\n"
     ]
    }
   ],
   "source": [
    "df.select('readmitted').show()"
   ]
  },
  {
   "cell_type": "code",
   "execution_count": 18,
   "id": "2dc55720",
   "metadata": {},
   "outputs": [
    {
     "name": "stdout",
     "output_type": "stream",
     "text": [
      "+----------+\n",
      "|readmitted|\n",
      "+----------+\n",
      "|         0|\n",
      "|         1|\n",
      "+----------+\n",
      "\n"
     ]
    }
   ],
   "source": [
    "df.select('readmitted').distinct().show()"
   ]
  },
  {
   "cell_type": "markdown",
   "id": "eb387d04",
   "metadata": {},
   "source": [
    "### Preparing the ML Classifier"
   ]
  },
  {
   "cell_type": "markdown",
   "id": "07f3e433",
   "metadata": {},
   "source": [
    "#### 1. Converting categorical columns features to numerical"
   ]
  },
  {
   "cell_type": "code",
   "execution_count": 19,
   "id": "af62b8c6",
   "metadata": {},
   "outputs": [],
   "source": [
    "from pyspark.ml import Pipeline\n",
    "from pyspark.ml.feature import CountVectorizer\n",
    "from pyspark.ml.feature import HashingTF, IDF, Tokenizer\n",
    "from pyspark.ml.feature import OneHotEncoder\n",
    "from pyspark.ml.feature import StringIndexer\n",
    "from pyspark.ml.feature import VectorAssembler\n",
    "from pyspark.ml.feature import VectorIndexer\n",
    "from pyspark.sql.functions import col, explode, array, lit\n",
    "from pyspark.ml.classification import LogisticRegression\n",
    "from pyspark.ml.evaluation import BinaryClassificationEvaluator"
   ]
  },
  {
   "cell_type": "code",
   "execution_count": 20,
   "id": "4d5fe83d",
   "metadata": {},
   "outputs": [
    {
     "name": "stdout",
     "output_type": "stream",
     "text": [
      "root\n",
      " |-- race: string (nullable = true)\n",
      " |-- gender: string (nullable = true)\n",
      " |-- age: string (nullable = true)\n",
      " |-- admission_type_id: long (nullable = true)\n",
      " |-- discharge_disposition_id: long (nullable = true)\n",
      " |-- admission_source_id: long (nullable = true)\n",
      " |-- time_in_hospital: long (nullable = true)\n",
      " |-- medical_specialty: string (nullable = true)\n",
      " |-- num_lab_procedures: long (nullable = true)\n",
      " |-- num_procedures: long (nullable = true)\n",
      " |-- num_medications: long (nullable = true)\n",
      " |-- number_outpatient: long (nullable = true)\n",
      " |-- number_emergency: long (nullable = true)\n",
      " |-- number_inpatient: long (nullable = true)\n",
      " |-- diag_1: string (nullable = true)\n",
      " |-- diag_2: string (nullable = true)\n",
      " |-- diag_3: string (nullable = true)\n",
      " |-- number_diagnoses: long (nullable = true)\n",
      " |-- max_glu_serum: long (nullable = true)\n",
      " |-- A1Cresult: long (nullable = true)\n",
      " |-- metformin: long (nullable = true)\n",
      " |-- repaglinide: long (nullable = true)\n",
      " |-- nateglinide: long (nullable = true)\n",
      " |-- chlorpropamide: long (nullable = true)\n",
      " |-- glipizide: long (nullable = true)\n",
      " |-- glyburide: long (nullable = true)\n",
      " |-- tolazamide: long (nullable = true)\n",
      " |-- insulin: long (nullable = true)\n",
      " |-- change: long (nullable = true)\n",
      " |-- diabetesMed: long (nullable = true)\n",
      " |-- readmitted: long (nullable = true)\n",
      "\n"
     ]
    }
   ],
   "source": [
    "df.printSchema()"
   ]
  },
  {
   "cell_type": "code",
   "execution_count": 21,
   "id": "cafcac05",
   "metadata": {},
   "outputs": [
    {
     "name": "stdout",
     "output_type": "stream",
     "text": [
      "The categorical columns are :\n",
      "['race', 'gender', 'age', 'medical_specialty', 'diag_1', 'diag_2', 'diag_3']\n",
      "7\n"
     ]
    }
   ],
   "source": [
    "print(\"The categorical columns are :\")\n",
    "catCols=['race','gender','age','medical_specialty','diag_1','diag_2','diag_3']\n",
    "print(catCols)\n",
    "print(len(catCols))"
   ]
  },
  {
   "cell_type": "code",
   "execution_count": 22,
   "id": "dcdc5b8d",
   "metadata": {},
   "outputs": [
    {
     "name": "stdout",
     "output_type": "stream",
     "text": [
      "14\n"
     ]
    },
    {
     "data": {
      "text/plain": [
       "[StringIndexer_076a54378422,\n",
       " OneHotEncoder_8fb7fe5096e6,\n",
       " StringIndexer_e4d90ae8c8b7,\n",
       " OneHotEncoder_8e1671fe1bd3,\n",
       " StringIndexer_e80817b07d3f,\n",
       " OneHotEncoder_75c727030beb,\n",
       " StringIndexer_6012266ce94e,\n",
       " OneHotEncoder_92030f8fe0b1,\n",
       " StringIndexer_105e2a2f3381,\n",
       " OneHotEncoder_a382b411b1e3,\n",
       " StringIndexer_ca3b2f48de53,\n",
       " OneHotEncoder_88a648429df1,\n",
       " StringIndexer_e79130209d7d,\n",
       " OneHotEncoder_d41e62df1b6b]"
      ]
     },
     "execution_count": 22,
     "metadata": {},
     "output_type": "execute_result"
    }
   ],
   "source": [
    "steps=[]\n",
    "for categoryCol in catCols:\n",
    "    stringIdx=StringIndexer(inputCol=categoryCol, outputCol=categoryCol + \"Index\").setHandleInvalid(\"skip\")\n",
    "    encoder = OneHotEncoder(inputCols=[categoryCol + \"Index\"], outputCols=[categoryCol + \"classVec\"])\n",
    "    steps += [stringIdx,encoder]\n",
    "   \n",
    "print(len(steps))\n",
    "steps"
   ]
  },
  {
   "cell_type": "code",
   "execution_count": 23,
   "id": "7e8f7e5f",
   "metadata": {},
   "outputs": [
    {
     "name": "stdout",
     "output_type": "stream",
     "text": [
      "The count of number cols 24\n",
      "['raceclassVec', 'genderclassVec', 'ageclassVec', 'medical_specialtyclassVec', 'diag_1classVec', 'diag_2classVec', 'diag_3classVec', 'admission_type_id', 'discharge_disposition_id', 'admission_source_id', 'time_in_hospital', 'num_lab_procedures', 'num_procedures', 'num_medications', 'number_outpatient', 'number_emergency', 'number_inpatient', 'number_diagnoses', 'max_glu_serum', 'A1Cresult', 'metformin', 'repaglinide', 'nateglinide', 'chlorpropamide', 'glipizide', 'glyburide', 'tolazamide', 'insulin', 'change', 'diabetesMed', 'readmitted']\n",
      "\n",
      "\n",
      "[StringIndexer_076a54378422, OneHotEncoder_8fb7fe5096e6, StringIndexer_e4d90ae8c8b7, OneHotEncoder_8e1671fe1bd3, StringIndexer_e80817b07d3f, OneHotEncoder_75c727030beb, StringIndexer_6012266ce94e, OneHotEncoder_92030f8fe0b1, StringIndexer_105e2a2f3381, OneHotEncoder_a382b411b1e3, StringIndexer_ca3b2f48de53, OneHotEncoder_88a648429df1, StringIndexer_e79130209d7d, OneHotEncoder_d41e62df1b6b, VectorAssembler_4f114b780946]\n",
      "15\n"
     ]
    }
   ],
   "source": [
    "numberCols=['admission_type_id','discharge_disposition_id','admission_source_id','time_in_hospital',\n",
    "            'num_lab_procedures','num_procedures','num_medications','number_outpatient','number_emergency',\n",
    "            'number_inpatient','number_diagnoses','max_glu_serum','A1Cresult','metformin','repaglinide',\n",
    "            'nateglinide','chlorpropamide','glipizide','glyburide','tolazamide','insulin','change',\n",
    "            'diabetesMed','readmitted']\n",
    "print(\"The count of number cols {}\".format(len(numberCols)))\n",
    "assInputs=[c + \"classVec\" for c in catCols] + numberCols\n",
    "print(assInputs)\n",
    "asmblr= VectorAssembler(inputCols=assInputs, outputCol='features')\n",
    "print(\"\\n\")\n",
    "steps +=[asmblr]\n",
    "print(steps)\n",
    "print(len(steps))"
   ]
  },
  {
   "cell_type": "code",
   "execution_count": 24,
   "id": "03d23c33",
   "metadata": {},
   "outputs": [
    {
     "name": "stdout",
     "output_type": "stream",
     "text": [
      "+---------------+------+---+-----------------+------------------------+-------------------+----------------+--------------------+------------------+--------------+---------------+-----------------+----------------+----------------+------+------+------+----------------+-------------+---------+---------+-----------+-----------+--------------+---------+---------+----------+-------+------+-----------+----------+---------+-------------+-----------+--------------+--------+-------------+----------------------+-------------------------+-----------+----------------+-----------+-----------------+-----------+----------------+--------------------+--------------------+\n",
      "|           race|gender|age|admission_type_id|discharge_disposition_id|admission_source_id|time_in_hospital|   medical_specialty|num_lab_procedures|num_procedures|num_medications|number_outpatient|number_emergency|number_inpatient|diag_1|diag_2|diag_3|number_diagnoses|max_glu_serum|A1Cresult|metformin|repaglinide|nateglinide|chlorpropamide|glipizide|glyburide|tolazamide|insulin|change|diabetesMed|readmitted|raceIndex| raceclassVec|genderIndex|genderclassVec|ageIndex|  ageclassVec|medical_specialtyIndex|medical_specialtyclassVec|diag_1Index|  diag_1classVec|diag_2Index|   diag_2classVec|diag_3Index|  diag_3classVec|            features|     indexedFeatures|\n",
      "+---------------+------+---+-----------------+------------------------+-------------------+----------------+--------------------+------------------+--------------+---------------+-----------------+----------------+----------------+------+------+------+----------------+-------------+---------+---------+-----------+-----------+--------------+---------+---------+----------+-------+------+-----------+----------+---------+-------------+-----------+--------------+--------+-------------+----------------------+-------------------------+-----------+----------------+-----------+-----------------+-----------+----------------+--------------------+--------------------+\n",
      "|      Caucasian|Female| 55|                1|                      18|                  4|               5|Family/GeneralPra...|                44|             0|             11|                0|               0|               0|   486|   428|   425|               8|            0|        8|        0|        -20|        -20|           -20|      -20|      -20|       -20|    -20|    -1|          1|         0|      0.0|(5,[0],[1.0])|        0.0| (2,[0],[1.0])|     2.0|(9,[2],[1.0])|                   2.0|           (70,[2],[1.0])|        4.0| (695,[4],[1.0])|        2.0|  (724,[2],[1.0])|       18.0|(757,[18],[1.0])|(2286,[0,5,9,18,9...|(2286,[0,5,9,18,9...|\n",
      "|AfricanAmerican|  Male| 35|                1|                       1|                  4|               4|    InternalMedicine|                40|             1|             10|                0|               0|               0|   569|   562|   401|               5|            0|        0|      -20|        -20|        -20|           -20|        0|      -20|       -20|      0|     1|          1|         0|      1.0|(5,[1],[1.0])|        1.0| (2,[1],[1.0])|     5.0|(9,[5],[1.0])|                   1.0|           (70,[1],[1.0])|       75.0|(695,[75],[1.0])|      100.0|(724,[100],[1.0])|        1.0| (757,[1],[1.0])|(2286,[1,6,12,17,...|(2286,[1,6,12,17,...|\n",
      "|      Caucasian|Female| 75|                1|                       2|                  7|               4|                   ?|                22|             1|             27|                0|               0|               0|   820|   287|   414|               6|            0|        0|        0|        -20|        -20|           -20|      -20|      -20|       -20|    -20|     1|          1|         0|      0.0|(5,[0],[1.0])|        0.0| (2,[0],[1.0])|     0.0|(9,[0],[1.0])|                   0.0|           (70,[0],[1.0])|       17.0|(695,[17],[1.0])|       55.0| (724,[55],[1.0])|        4.0| (757,[4],[1.0])|(2286,[0,5,7,16,1...|(2286,[0,5,7,16,1...|\n",
      "|      Caucasian|  Male| 75|                5|                      18|                  7|               5|    InternalMedicine|                60|             0|             17|                0|               0|               0|   682|    38|   250|               5|            0|        0|        0|        -20|        -20|           -20|      -20|      -20|       -20|    -20|    -1|          1|         1|      0.0|(5,[0],[1.0])|        1.0| (2,[1],[1.0])|     0.0|(9,[0],[1.0])|                   1.0|           (70,[1],[1.0])|        8.0| (695,[8],[1.0])|       49.0| (724,[49],[1.0])|        0.0| (757,[0],[1.0])|(2286,[0,6,7,17,9...|(2286,[0,6,7,17,9...|\n",
      "|      Caucasian|Female| 75|                1|                       1|                  1|               2|Surgery-Cardiovas...|                35|             1|             25|                0|               0|               0|   433|   401|   250|               6|            0|        0|      -20|        -20|        -20|           -20|      -20|      -20|       -20|      0|    -1|          1|         1|      0.0|(5,[0],[1.0])|        0.0| (2,[0],[1.0])|     0.0|(9,[0],[1.0])|                  14.0|          (70,[14],[1.0])|       27.0|(695,[27],[1.0])|        4.0|  (724,[4],[1.0])|        0.0| (757,[0],[1.0])|(2286,[0,5,7,30,1...|(2286,[0,5,7,30,1...|\n",
      "+---------------+------+---+-----------------+------------------------+-------------------+----------------+--------------------+------------------+--------------+---------------+-----------------+----------------+----------------+------+------+------+----------------+-------------+---------+---------+-----------+-----------+--------------+---------+---------+----------+-------+------+-----------+----------+---------+-------------+-----------+--------------+--------+-------------+----------------------+-------------------------+-----------+----------------+-----------+-----------------+-----------+----------------+--------------------+--------------------+\n",
      "only showing top 5 rows\n",
      "\n"
     ]
    }
   ],
   "source": [
    "pipl = Pipeline(stages=steps)\n",
    "piplModel = pipl.fit(df)\n",
    "dataset = piplModel.transform(df)\n",
    "featureIndexer = VectorIndexer(inputCol=\"features\", \\\n",
    "                               outputCol=\"indexedFeatures\", \\\n",
    "                               maxCategories=8).fit(dataset)\n",
    "featureIndexer.transform(dataset).show(5, True)"
   ]
  },
  {
   "cell_type": "code",
   "execution_count": 25,
   "id": "2b5e48e2",
   "metadata": {},
   "outputs": [
    {
     "data": {
      "text/plain": [
       "[Row(features=SparseVector(2286, {0: 1.0, 5: 1.0, 9: 1.0, 18: 1.0, 90: 1.0, 783: 1.0, 1523: 1.0, 2262: 1.0, 2263: 18.0, 2264: 4.0, 2265: 5.0, 2266: 44.0, 2268: 11.0, 2272: 8.0, 2274: 8.0, 2276: -20.0, 2277: -20.0, 2278: -20.0, 2279: -20.0, 2280: -20.0, 2281: -20.0, 2282: -20.0, 2283: -1.0, 2284: 1.0}))]"
      ]
     },
     "execution_count": 25,
     "metadata": {},
     "output_type": "execute_result"
    }
   ],
   "source": [
    "dataset.select('features').take(1)"
   ]
  },
  {
   "cell_type": "code",
   "execution_count": 26,
   "id": "897253a2",
   "metadata": {},
   "outputs": [
    {
     "name": "stdout",
     "output_type": "stream",
     "text": [
      "+----------+\n",
      "|readmitted|\n",
      "+----------+\n",
      "|         0|\n",
      "|         1|\n",
      "+----------+\n",
      "\n"
     ]
    }
   ],
   "source": [
    "dataset.select('readmitted').distinct().show()"
   ]
  },
  {
   "cell_type": "code",
   "execution_count": 27,
   "id": "f735f282",
   "metadata": {},
   "outputs": [
    {
     "name": "stdout",
     "output_type": "stream",
     "text": [
      "root\n",
      " |-- readmitted: long (nullable = true)\n",
      " |-- features: vector (nullable = true)\n",
      "\n"
     ]
    }
   ],
   "source": [
    "colsSelected = ['readmitted', 'features']\n",
    "data = dataset.select(colsSelected)\n",
    "data.printSchema()"
   ]
  },
  {
   "cell_type": "code",
   "execution_count": 28,
   "id": "590f8c1b",
   "metadata": {},
   "outputs": [
    {
     "name": "stdout",
     "output_type": "stream",
     "text": [
      "+----------+-----+\n",
      "|readmitted|count|\n",
      "+----------+-----+\n",
      "|         0|41901|\n",
      "|         1|28533|\n",
      "+----------+-----+\n",
      "\n"
     ]
    }
   ],
   "source": [
    "data.groupBy('readmitted').count().show()"
   ]
  },
  {
   "cell_type": "markdown",
   "id": "18bc43c6",
   "metadata": {},
   "source": [
    "After the feature engineering, we select the labels(readmitted) and its features of 24 columns as our dataset. In this dataset, we split into training and testing for ML."
   ]
  },
  {
   "cell_type": "code",
   "execution_count": 29,
   "id": "f67c12c2",
   "metadata": {},
   "outputs": [
    {
     "name": "stdout",
     "output_type": "stream",
     "text": [
      "49348\n",
      "21086\n"
     ]
    }
   ],
   "source": [
    "(train, test) = data.randomSplit([0.7,0.3])\n",
    "print(train.count())\n",
    "print(test.count())"
   ]
  },
  {
   "cell_type": "markdown",
   "id": "1a6ee10b",
   "metadata": {},
   "source": [
    "### Logistic Regression"
   ]
  },
  {
   "cell_type": "code",
   "execution_count": 30,
   "id": "222c86dd",
   "metadata": {},
   "outputs": [],
   "source": [
    "logReg = LogisticRegression(featuresCol ='features', labelCol = 'readmitted', maxIter = 5)\n",
    "logRegModel = logReg.fit(train)"
   ]
  },
  {
   "cell_type": "code",
   "execution_count": 31,
   "id": "e40c739b",
   "metadata": {},
   "outputs": [
    {
     "name": "stdout",
     "output_type": "stream",
     "text": [
      "+--------------------+----------+----------+\n",
      "|            features|readmitted|prediction|\n",
      "+--------------------+----------+----------+\n",
      "|(2286,[0,5,7,16,8...|         0|       0.0|\n",
      "|(2286,[0,5,7,16,8...|         0|       0.0|\n",
      "|(2286,[0,5,7,16,8...|         0|       0.0|\n",
      "|(2286,[0,5,7,16,8...|         0|       0.0|\n",
      "|(2286,[0,5,7,16,8...|         0|       0.0|\n",
      "|(2286,[0,5,7,16,8...|         0|       1.0|\n",
      "|(2286,[0,5,7,16,8...|         0|       0.0|\n",
      "|(2286,[0,5,7,16,8...|         0|       0.0|\n",
      "|(2286,[0,5,7,16,8...|         0|       0.0|\n",
      "|(2286,[0,5,7,16,8...|         0|       0.0|\n",
      "+--------------------+----------+----------+\n",
      "only showing top 10 rows\n",
      "\n"
     ]
    }
   ],
   "source": [
    "predictions = logRegModel.transform(test)\n",
    "predictions.select('features','readmitted', 'prediction').show(10)"
   ]
  },
  {
   "cell_type": "code",
   "execution_count": 32,
   "id": "bad670a7",
   "metadata": {},
   "outputs": [
    {
     "name": "stdout",
     "output_type": "stream",
     "text": [
      "+----------+--------------------+--------------------+--------------------+----------+\n",
      "|readmitted|            features|       rawPrediction|         probability|prediction|\n",
      "+----------+--------------------+--------------------+--------------------+----------+\n",
      "|         0|(2286,[0,5,7,16,8...|[3.81504414457149...|[0.97843840565406...|       0.0|\n",
      "|         0|(2286,[0,5,7,16,8...|[3.29597199823587...|[0.96429036778233...|       0.0|\n",
      "|         0|(2286,[0,5,7,16,8...|[4.71940391154253...|[0.99115837727803...|       0.0|\n",
      "|         0|(2286,[0,5,7,16,8...|[1.69173978205874...|[0.84445282114395...|       0.0|\n",
      "|         0|(2286,[0,5,7,16,8...|[0.48798335803085...|[0.61963124809649...|       0.0|\n",
      "+----------+--------------------+--------------------+--------------------+----------+\n",
      "only showing top 5 rows\n",
      "\n"
     ]
    }
   ],
   "source": [
    "predictions.show(5)"
   ]
  },
  {
   "cell_type": "code",
   "execution_count": 33,
   "id": "71ed74af",
   "metadata": {},
   "outputs": [
    {
     "name": "stdout",
     "output_type": "stream",
     "text": [
      "Accuracy of LR = 0.974942377133431\n"
     ]
    }
   ],
   "source": [
    "evaluator = BinaryClassificationEvaluator(labelCol=\"readmitted\", rawPredictionCol=\"prediction\")\n",
    "accuracy = evaluator.evaluate(predictions)\n",
    "print(\"Accuracy of LR =\", accuracy)"
   ]
  }
 ],
 "metadata": {
  "kernelspec": {
   "display_name": "Python 3",
   "language": "python",
   "name": "python3"
  },
  "language_info": {
   "codemirror_mode": {
    "name": "ipython",
    "version": 3
   },
   "file_extension": ".py",
   "mimetype": "text/x-python",
   "name": "python",
   "nbconvert_exporter": "python",
   "pygments_lexer": "ipython3",
   "version": "3.8.8"
  }
 },
 "nbformat": 4,
 "nbformat_minor": 5
}
